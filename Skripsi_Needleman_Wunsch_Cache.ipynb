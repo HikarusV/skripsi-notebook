{
  "nbformat": 4,
  "nbformat_minor": 0,
  "metadata": {
    "colab": {
      "provenance": []
    },
    "kernelspec": {
      "name": "python3",
      "display_name": "Python 3"
    },
    "language_info": {
      "name": "python"
    }
  },
  "cells": [
    {
      "cell_type": "markdown",
      "metadata": {
        "id": "GvLJm778d5uS"
      },
      "source": [
        "##Step 1 : Import Module"
      ]
    },
    {
      "cell_type": "code",
      "execution_count": 1,
      "metadata": {
        "id": "x08QS_wzd8KW"
      },
      "outputs": [],
      "source": [
        "import numpy as np\n",
        "from enum import Enum, auto\n",
        "from IPython.core.display import HTML,display\n",
        "import pandas as pd\n",
        "import os\n",
        "from datetime import datetime"
      ]
    },
    {
      "cell_type": "markdown",
      "metadata": {
        "id": "l6S32nGyVMdy"
      },
      "source": [
        "##Step 2 : Deklarasi Variabel"
      ]
    },
    {
      "cell_type": "code",
      "execution_count": 2,
      "metadata": {
        "id": "pwqIm963Tl4F"
      },
      "outputs": [],
      "source": [
        "# String Variable\n",
        "sequenceA       : str = 'FEEDS'#GGGAACCCAT'#'TREES'\n",
        "sequenceB       : str = 'TREES'#ATAGAAATGA'#'FEEDS'\n",
        "alignedA        : str\n",
        "alignedB        : str\n",
        "\n",
        "# Integer Variable\n",
        "lengthSequenceA : int\n",
        "lengthSequenceB : int\n",
        "\n",
        "limit = 99999\n",
        "\n",
        "# Matrix\n",
        "main_matrix           : list\n",
        "match_checker_matrix  : list"
      ]
    },
    {
      "cell_type": "code",
      "execution_count": 3,
      "metadata": {
        "id": "CHO5bkRCbw0n"
      },
      "outputs": [],
      "source": [
        "class Sequences(Enum) :\n",
        "  MATCH: int = 1\n",
        "  MISS_MATCH = -1\n",
        "  GAP_PENALTY = -1\n",
        "\n",
        "class Arrow(Enum) :\n",
        "  UP          : str = \"\\u2191\"\n",
        "  RIGHT       : str = \"\\u2192\"\n",
        "  down_arrow  : str = \"\\u2193\"\n",
        "  LEFT        : str = \"\\u2190\"\n",
        "  DOWN_RIGHT  : str = \"\\u2198\"\n",
        "  UP_LEFT     : str = \"\\u2196\""
      ]
    },
    {
      "cell_type": "markdown",
      "metadata": {
        "id": "bBzpYbHNTC8Z"
      },
      "source": [
        "##Step 3 : Deklarasi Method Function"
      ]
    },
    {
      "cell_type": "code",
      "execution_count": 4,
      "metadata": {
        "id": "KCyZh3k5j7ZD"
      },
      "outputs": [],
      "source": [
        "def reverseFileLine(fileName: str):\n",
        "  r = open(fileName+ \".txt\", \"r\")\n",
        "  f = open(\"result1.txt\", \"w\")\n",
        "  f2 = open(\"result2.txt\", \"w\")\n",
        "\n",
        "  test = r.readline()\n",
        "  # print(test)\n",
        "\n",
        "  first = True\n",
        "  loop = 0\n",
        "  index = 0\n",
        "\n",
        "  while True:\n",
        "    # print(index)\n",
        "    index = index + 1\n",
        "    if (test != \"\"):\n",
        "      # print(\"=======\")\n",
        "      if (loop == 0):\n",
        "        if (first):\n",
        "          # print(\"first : \" + test)\n",
        "          f.write(test)\n",
        "          f.close()\n",
        "          first = False\n",
        "        else:\n",
        "          f = open(\"result1.txt\", \"w\")\n",
        "          # print(\"if 0 : \" + test)\n",
        "\n",
        "          f.write(test)\n",
        "          f.close()\n",
        "\n",
        "          # !cat result2.txt\n",
        "          !cat result2.txt >> result1.txt\n",
        "          # !echo \"\" > result2.txt\n",
        "          pass\n",
        "        loop = 1\n",
        "      else:\n",
        "        # print(\"else : \" + test)\n",
        "        f2 = open(\"result2.txt\", \"w\")\n",
        "        f2.write(test)\n",
        "        f2.close()\n",
        "\n",
        "        # !cat result1.txt\n",
        "        !cat result1.txt >> result2.txt\n",
        "        # !echo \"\" > result1.txt\n",
        "\n",
        "        loop = 0\n",
        "    else:\n",
        "      break\n",
        "    test = r.readline()\n",
        "\n",
        "\n",
        "  if (loop == 0):\n",
        "    !rm result1.txt\n",
        "    !mv result2.txt result.txt\n",
        "  else:\n",
        "    !rm result2.txt\n",
        "    !mv result1.txt result.txt"
      ]
    },
    {
      "cell_type": "code",
      "execution_count": 5,
      "metadata": {
        "id": "6VVD3p-NAAzx"
      },
      "outputs": [],
      "source": [
        "def parseDataText(dataList: list, initial: str):\n",
        "  f = open(initial+\"_buffer\"+\".txt\", \"a\")\n",
        "  data = \"\"\n",
        "  for i in range(0, len(dataList)):\n",
        "    char = str(dataList[i])\n",
        "    # print(char)\n",
        "    if i == len(dataList) -1:\n",
        "      data=data+\",\"+char\n",
        "    else:\n",
        "      if (i == 0):\n",
        "        data=char\n",
        "      else:\n",
        "        data=data+\",\"+char\n",
        "\n",
        "    # print(data)\n",
        "  f.write(data+\"\\n\")\n",
        "  f.close()"
      ]
    },
    {
      "cell_type": "code",
      "execution_count": 6,
      "metadata": {
        "id": "W0jggN_I7eAz"
      },
      "outputs": [],
      "source": [
        "def buildCacheArray(lenAtas : int, lenKiri : int, char : str, initial: str):\n",
        "  data = \"\"\n",
        "  filename = initial+\".txt\"\n",
        "  if (os.path.exists(filename)):\n",
        "    os.remove(filename)\n",
        "  f = open(filename, \"a\")\n",
        "  for i in range(0, lenAtas):\n",
        "    # print(i)\n",
        "    if i == lenAtas -1:\n",
        "      data=data+char\n",
        "    else:\n",
        "      data=char+\",\"+data\n",
        "\n",
        "  for i in range(0, lenKiri):\n",
        "    f.write(data+\"\\n\")"
      ]
    },
    {
      "cell_type": "code",
      "execution_count": 7,
      "metadata": {
        "id": "iS-Pp6-CTAIh"
      },
      "outputs": [],
      "source": [
        "# Fungsi generate data table\n",
        "def pretty_table_from_array(data_array, row_labels,col_labels):\n",
        "    \"\"\"Show an HTML table from a 2d numpy array\"\"\"\n",
        "    df = pd.DataFrame(data_array,index=row_labels,columns=col_labels)\n",
        "    table_html = df.to_html()\n",
        "    return HTML(table_html)"
      ]
    },
    {
      "cell_type": "code",
      "execution_count": 8,
      "metadata": {
        "id": "U6wTPSbcfUk2"
      },
      "outputs": [],
      "source": [
        "def traceback_alignment_cache(fileName: str, sequenceA, sequenceB):\n",
        "    fileTraceback = open(fileName, \"r\")\n",
        "\n",
        "    seqData = fileTraceback.readline().split(\",\")\n",
        "    seqData[len(seqData) - 1] = seqData[len(seqData) - 1].replace('\\n', '')\n",
        "\n",
        "    row = len(sequenceA)\n",
        "    col = len(sequenceB)\n",
        "    arrow = seqData[col]\n",
        "    aligned_sequenceA = \"\"\n",
        "    aligned_sequenceB = \"\"\n",
        "    alignment_indicator = \"\"\n",
        "    # print(sequenceA)\n",
        "    # print(sequenceB)\n",
        "    while arrow != \"-\":\n",
        "            # print(\"Currently on row:\",row)\n",
        "            # print(\"Currently on col:\",col)\n",
        "            arrow = seqData[col]\n",
        "            # print(\"Arrow:\",arrow)\n",
        "\n",
        "            if arrow == Arrow.UP.value:\n",
        "                # print(\"insert indel into top sequence\")\n",
        "                #We want to add the new indel onto the left\n",
        "                #side of the growing aligned sequence\n",
        "                aligned_sequenceB = \"-\"+aligned_sequenceB\n",
        "                aligned_sequenceA = sequenceA[row-1] + aligned_sequenceA\n",
        "                alignment_indicator = \" \"+alignment_indicator\n",
        "                row -=1\n",
        "                seqData = fileTraceback.readline().split(\",\")\n",
        "                seqData[len(seqData) - 1] = seqData[len(seqData) - 1].replace('\\n', '')\n",
        "\n",
        "            elif arrow == Arrow.UP_LEFT.value:\n",
        "                # print(\"match or mismatch\")\n",
        "                #Note that we look up the row-1 and col-1 indexes\n",
        "                #because there is an extra \"-\" character at the\n",
        "                #start of each sequence\n",
        "                sequenceA_character = sequenceA[row-1]\n",
        "                sequenceB_character = sequenceB[col-1]\n",
        "                aligned_sequenceA = sequenceA[row-1] + aligned_sequenceA\n",
        "                aligned_sequenceB = sequenceB[col-1] + aligned_sequenceB\n",
        "                if sequenceA_character == sequenceB_character:\n",
        "                    alignment_indicator = \"|\"+alignment_indicator\n",
        "                else:\n",
        "                    alignment_indicator = \" \"+alignment_indicator\n",
        "                row -=1\n",
        "                col -=1\n",
        "                seqData = fileTraceback.readline().split(\",\")\n",
        "                seqData[len(seqData) - 1] = seqData[len(seqData) - 1].replace('\\n', '')\n",
        "\n",
        "            elif arrow == Arrow.LEFT.value:\n",
        "                # print(\"Insert indel into left sequence\")\n",
        "                aligned_sequenceA = \"-\"+aligned_sequenceA\n",
        "                aligned_sequenceB = sequenceB[col-1] + aligned_sequenceB\n",
        "                alignment_indicator = \" \"+alignment_indicator\n",
        "                col -=1\n",
        "\n",
        "            elif arrow == \"-\":\n",
        "                break\n",
        "            else:\n",
        "                raise ValueError(f\"Traceback array entry at {row},{col}: {arrow} is not recognized as an up arrow ({Arrow.UP.value}),Arrow.LEFT.value ({Arrow.LEFT.value}), Arrow.UP_LEFT.value ({Arrow.UP_LEFT.value}), or a stop (-).\")\n",
        "            #print(traceback_array,-row,-col,traceback_array[-row,-col])\n",
        "    print(aligned_sequenceA)\n",
        "    print(alignment_indicator)\n",
        "    print(aligned_sequenceB)\n",
        "\n",
        "    return aligned_sequenceA,aligned_sequenceB"
      ]
    },
    {
      "cell_type": "code",
      "execution_count": 9,
      "metadata": {
        "id": "hY3VEhXrlDZr"
      },
      "outputs": [],
      "source": [
        "def traceback_alignment(traceback_array, sequenceA, sequenceB):\n",
        "\n",
        "    n_rows = len(sequenceA) + 1 #need an extra row up top\n",
        "    n_columns = len(sequenceB) + 1 #need an extra row up top\n",
        "\n",
        "    row = len(sequenceA)\n",
        "    col = len(sequenceB)\n",
        "    arrow = traceback_array[row,col]\n",
        "    aligned_sequenceA = \"\"\n",
        "    aligned_sequenceB = \"\"\n",
        "    alignment_indicator = \"\"\n",
        "    while arrow != \"-\":\n",
        "            # print(\"Currently on row:\",row)\n",
        "            # print(\"Currently on col:\",col)\n",
        "            arrow = traceback_array[row,col]\n",
        "            # print(\"Arrow:\",arrow)\n",
        "\n",
        "            if arrow == Arrow.UP.value:\n",
        "                # print(\"insert indel into top sequence\")\n",
        "                #We want to add the new indel onto the left\n",
        "                #side of the growing aligned sequence\n",
        "                aligned_sequenceB = \"-\"+aligned_sequenceB\n",
        "                aligned_sequenceA = sequenceA[row-1] + aligned_sequenceA\n",
        "                alignment_indicator = \" \"+alignment_indicator\n",
        "                row -=1\n",
        "\n",
        "            elif arrow == Arrow.UP_LEFT.value:\n",
        "                # print(\"match or mismatch\")\n",
        "                #Note that we look up the row-1 and col-1 indexes\n",
        "                #because there is an extra \"-\" character at the\n",
        "                #start of each sequence\n",
        "                sequenceA_character = sequenceA[row-1]\n",
        "                sequenceB_character = sequenceB[col-1]\n",
        "                aligned_sequenceA = sequenceA[row-1] + aligned_sequenceA\n",
        "                aligned_sequenceB = sequenceB[col-1] + aligned_sequenceB\n",
        "                if sequenceA_character == sequenceB_character:\n",
        "                    alignment_indicator = \"|\"+alignment_indicator\n",
        "                else:\n",
        "                    alignment_indicator = \" \"+alignment_indicator\n",
        "                row -=1\n",
        "                col -=1\n",
        "\n",
        "            elif arrow == Arrow.LEFT.value:\n",
        "                # print(\"Insert indel into left sequence\")\n",
        "                aligned_sequenceA = \"-\"+aligned_sequenceA\n",
        "                aligned_sequenceB = sequenceB[col-1] + aligned_sequenceB\n",
        "                alignment_indicator = \" \"+alignment_indicator\n",
        "                col -=1\n",
        "\n",
        "            elif arrow == \"-\":\n",
        "                break\n",
        "            else:\n",
        "                raise ValueError(f\"Traceback array entry at {row},{col}: {arrow} is not recognized as an up arrow ({Arrow.UP.value}),Arrow.LEFT.value ({Arrow.LEFT.value}), Arrow.UP_LEFT.value ({Arrow.UP_LEFT.value}), or a stop (-).\")\n",
        "            #print(traceback_array,-row,-col,traceback_array[-row,-col])\n",
        "    print(aligned_sequenceA)\n",
        "    print(alignment_indicator)\n",
        "    print(aligned_sequenceB)\n",
        "\n",
        "    return aligned_sequenceA,aligned_sequenceB"
      ]
    },
    {
      "cell_type": "code",
      "execution_count": 10,
      "metadata": {
        "id": "bTAYUT-LzY8l"
      },
      "outputs": [],
      "source": [
        "def buildCacheArrayWithRowNuberChar(lenAtas : int, lenKiri : int, char : str, initial: str, traceback: bool, initNumberRow : int = 0, cekpoint: bool = False):\n",
        "  data = \"\"\n",
        "  filename = initial+\".txt\"\n",
        "  if (os.path.exists(filename)):\n",
        "    os.remove(filename)\n",
        "  f = open(filename, \"a\")\n",
        "  for i in range(initNumberRow, lenKiri):\n",
        "    if (i == initNumberRow):\n",
        "      if (traceback):\n",
        "        data=\"-,\"+((lenAtas-2)*(Arrow.LEFT.value+\",\"))+Arrow.LEFT.value\n",
        "      else:\n",
        "        if cekpoint:\n",
        "          file = open(\"cekpoint.txt\", \"r\")\n",
        "          print(data)\n",
        "          data = file.readline()\n",
        "          file.close()\n",
        "        else:\n",
        "          for i in range(0, lenAtas):\n",
        "            # print(i)\n",
        "            if i == 0:\n",
        "              data = \"0\"\n",
        "            else:\n",
        "              data=data+\",\"+str(i*-1)\n",
        "    else:\n",
        "      if (traceback):\n",
        "        data=Arrow.UP.value+\",\"+((lenAtas-2)*(char+\",\"))+char\n",
        "      else:\n",
        "        data=str((i*-1))+\",\"+((lenAtas-2)*(char+\",\"))+char\n",
        "    f.write(data+\"\\n\")"
      ]
    },
    {
      "cell_type": "markdown",
      "metadata": {
        "id": "t0MTY9EaeFhx"
      },
      "source": [
        "##Step 4 : Matrix initiate"
      ]
    },
    {
      "cell_type": "code",
      "execution_count": 11,
      "metadata": {
        "id": "iYUuwLMqp6ZW"
      },
      "outputs": [],
      "source": [
        "buildCacheArray(len(sequenceA) + 1, len(sequenceB) + 1, \"0\", \"main_matriks\")\n",
        "buildCacheArray(len(sequenceA) + 1, len(sequenceB) + 1, \"-\", \"traceback_matriks\")"
      ]
    },
    {
      "cell_type": "markdown",
      "metadata": {
        "id": "c2pn2eB6fth-"
      },
      "source": [
        "##Step 5 : Needleman Wunsch Algorithm With Cache"
      ]
    },
    {
      "cell_type": "markdown",
      "metadata": {
        "id": "-247v-jRf1_e"
      },
      "source": [
        "### Step 1 : Initialisation"
      ]
    },
    {
      "cell_type": "markdown",
      "metadata": {
        "id": "-qv3QDf3349T"
      },
      "source": [
        "#### Old ALgorithm"
      ]
    },
    {
      "cell_type": "code",
      "execution_count": 12,
      "metadata": {
        "id": "7ajcDGXL7uEs"
      },
      "outputs": [],
      "source": [
        "mainData = open(\"main_matriks.txt\", \"r\")\n",
        "tracebackData = open(\"traceback_matriks.txt\", \"r\")"
      ]
    },
    {
      "cell_type": "code",
      "execution_count": 13,
      "metadata": {
        "id": "WHDPHiJfAOxQ"
      },
      "outputs": [],
      "source": [
        "if (os.path.exists(\"main_matriks_buffer.txt\")):\n",
        "  os.remove(\"main_matriks_buffer.txt\")\n",
        "mainData = open(\"main_matriks.txt\", \"r\")\n",
        "line = mainData.readline().split(\",\")\n",
        "line[len(line) - 1] = line[len(line) - 1].replace('\\n', '')\n",
        "# print(line)\n",
        "i = -1\n",
        "\n",
        "while True:\n",
        "  i = i + 1\n",
        "  if i == 0:\n",
        "    # print(\"if\")\n",
        "    for j in range(0, len(line)):\n",
        "      line[j] = int(j) * Sequences.GAP_PENALTY.value\n",
        "    parseDataText(line, \"main_matriks\")\n",
        "    # print(line)\n",
        "  else:\n",
        "    # print(\"else\")\n",
        "    line = mainData.readline()\n",
        "    # print(line)\n",
        "    if len(line) != 0:\n",
        "      line = line.split(\",\")\n",
        "      line[len(line) - 1] = line[len(line) - 1].replace('\\n', '')\n",
        "      line[0] = i * Sequences.GAP_PENALTY.value\n",
        "      parseDataText(line, \"main_matriks\")\n",
        "    else:\n",
        "      break\n",
        "\n",
        "!rm main_matriks.txt\n",
        "!mv main_matriks_buffer.txt main_matriks.txt"
      ]
    },
    {
      "cell_type": "code",
      "execution_count": 14,
      "metadata": {
        "id": "kTRGsrWLpa6k",
        "colab": {
          "base_uri": "https://localhost:8080/"
        },
        "outputId": "37b7d7ac-a33c-4218-b4d5-f24b2fc0873f"
      },
      "outputs": [
        {
          "output_type": "stream",
          "name": "stdout",
          "text": [
            "0\n",
            "1\n",
            "2\n",
            "3\n",
            "4\n",
            "5\n",
            "6\n"
          ]
        }
      ],
      "source": [
        "if (os.path.exists(\"traceback_matriks_buffer.txt\")):\n",
        "  os.remove(\"traceback_matriks_buffer.txt\")\n",
        "mainData = open(\"traceback_matriks.txt\", \"r\")\n",
        "line = mainData.readline().split(\",\")\n",
        "line[len(line) - 1] = line[len(line) - 1].replace('\\n', '')\n",
        "# print(line)\n",
        "i = -1\n",
        "\n",
        "# 1 = kanan\n",
        "# 2 = kiri\n",
        "# 3 = atas\n",
        "# 4 = bawah\n",
        "\n",
        "while True:\n",
        "  i = i + 1\n",
        "  print(i)\n",
        "  if i == 0:\n",
        "    # print(\"if\")\n",
        "    for j in range(0, len(line)):\n",
        "      if (j != 0):\n",
        "        line[j] = Arrow.LEFT.value\n",
        "    parseDataText(line, \"traceback_matriks\")\n",
        "    # print(line)\n",
        "  else:\n",
        "    # print(\"else\")\n",
        "    line = mainData.readline()\n",
        "    # print(line)\n",
        "    if len(line) != 0:\n",
        "      line = line.split(\",\")\n",
        "      line[len(line) - 1] = line[len(line) - 1].replace('\\n', '')\n",
        "      line[0] = Arrow.UP.value\n",
        "      parseDataText(line, \"traceback_matriks\")\n",
        "    else:\n",
        "      break\n",
        "\n",
        "mainData.close()\n",
        "tracebackData.close()\n",
        "\n",
        "!rm traceback_matriks.txt\n",
        "!mv traceback_matriks_buffer.txt traceback_matriks.txt"
      ]
    },
    {
      "cell_type": "markdown",
      "metadata": {
        "id": "jU4zGMqv4Fn7"
      },
      "source": [
        "#### New Algorithm"
      ]
    },
    {
      "cell_type": "code",
      "source": [
        "start = datetime.now()\n",
        "buildCacheArrayWithRowNuberChar(len(sequenceA) + 1, len(sequenceB) + 1, \"0\", \"main_matriks\", False)\n",
        "buildCacheArrayWithRowNuberChar(len(sequenceA) + 1, len(sequenceB) + 1, \"-\", \"traceback_matriks\", True)\n",
        "print(\"time :: \" + str(datetime.now() - start))"
      ],
      "metadata": {
        "id": "PCRzAMRuV80L",
        "colab": {
          "base_uri": "https://localhost:8080/"
        },
        "outputId": "9b0660e5-a11f-4880-eba2-a2750a5f572e"
      },
      "execution_count": 15,
      "outputs": [
        {
          "output_type": "stream",
          "name": "stdout",
          "text": [
            "time :: 0:00:00.001280\n"
          ]
        }
      ]
    },
    {
      "cell_type": "code",
      "execution_count": 16,
      "metadata": {
        "id": "Q3crL-Np4I_j",
        "colab": {
          "base_uri": "https://localhost:8080/"
        },
        "outputId": "1fcb13f8-eb0e-4609-ca01-f717626c2e19"
      },
      "outputs": [
        {
          "output_type": "stream",
          "name": "stdout",
          "text": [
            "time :: 0:00:00.001052\n"
          ]
        }
      ],
      "source": [
        "# 1 Menit 40 Detik\n",
        "# print(len(sequenceA))\n",
        "start = datetime.now()\n",
        "buildCacheArrayWithRowNuberChar(len(sequenceA) + 1, len(sequenceB) + 1, \"0\", \"main_matriks\", False)\n",
        "print(\"time :: \" + str(datetime.now() - start))"
      ]
    },
    {
      "cell_type": "code",
      "execution_count": 17,
      "metadata": {
        "id": "r9fk7JQq4M8S",
        "colab": {
          "base_uri": "https://localhost:8080/"
        },
        "outputId": "cf80dc18-9e12-4860-947b-df1b2d03b824"
      },
      "outputs": [
        {
          "output_type": "stream",
          "name": "stdout",
          "text": [
            "time :: 0:00:00.000456\n"
          ]
        }
      ],
      "source": [
        "# 1 Menit 40 Detik\n",
        "start = datetime.now()\n",
        "buildCacheArrayWithRowNuberChar(len(sequenceA) + 1, len(sequenceB) + 1, \"-\", \"traceback_matriks\", True)\n",
        "print(\"time :: \" + str(datetime.now() - start))"
      ]
    },
    {
      "cell_type": "markdown",
      "metadata": {
        "id": "UZrgfZeGgJuC"
      },
      "source": [
        "### Step 2 : Matrix Filling"
      ]
    },
    {
      "cell_type": "code",
      "execution_count": 18,
      "metadata": {
        "id": "mJQzxxNdfy9N"
      },
      "outputs": [],
      "source": [
        "mainData = open(\"main_matriks.txt\", \"r\")\n",
        "tracebackData = open(\"traceback_matriks.txt\", \"r\")\n",
        "\n",
        "if (os.path.exists(\"traceback_matriks_buffer.txt\")):\n",
        "  os.remove('traceback_matriks_buffer.txt')\n",
        "\n",
        "if (os.path.exists(\"main_matriks_buffer.txt\")):\n",
        "  os.remove('main_matriks_buffer.txt')\n",
        "\n",
        "lineRead = mainData.readline()\n",
        "line1 = lineRead.split(\",\")\n",
        "line1[len(line1) - 1] = line1[len(line1) - 1].replace('\\n', '')\n",
        "parseDataText(line1, \"main_matriks\")\n",
        "\n",
        "lineRead = mainData.readline()\n",
        "line2 = lineRead.split(\",\")\n",
        "line2[len(line2) - 1] = line2[len(line2) - 1].replace('\\n', '')\n",
        "\n",
        "lineRead = mainData.readline()\n",
        "\n",
        "treaceDataRead = tracebackData.readline()\n",
        "lineTrace = treaceDataRead.split(\",\")\n",
        "lineTrace[len(lineTrace) - 1] = lineTrace[len(lineTrace) - 1].replace('\\n', '')\n",
        "parseDataText(lineTrace, \"traceback_matriks\")\n",
        "\n",
        "treaceDataRead = tracebackData.readline()\n",
        "\n",
        "i = 1\n",
        "while True:\n",
        "  print\n",
        "  if (lineRead != \"\"):\n",
        "    line3 = lineRead.split(\",\")\n",
        "    line3[len(line3) - 1] = line3[len(line3) - 1].replace('\\n', '')\n",
        "\n",
        "    lineTrace = treaceDataRead.split(\",\")\n",
        "    lineTrace[len(lineTrace) - 1] = lineTrace[len(lineTrace) - 1].replace('\\n', '')\n",
        "  else:\n",
        "    line3 = []\n",
        "\n",
        "  # print(\"=======\" + str(i))\n",
        "  # print(line1)\n",
        "  # print(line2)\n",
        "\n",
        "  for j in range(1,len(sequenceA)+1):\n",
        "    cell_to_the_left = int(line2[j-1])\n",
        "    from_left_score = cell_to_the_left + Sequences.GAP_PENALTY.value\n",
        "\n",
        "    above_cell = int(line1[j])\n",
        "    from_above_score = above_cell + Sequences.GAP_PENALTY.value\n",
        "\n",
        "    diagonal_left_cell = int(line1[j-1])\n",
        "\n",
        "    if sequenceB[i-1] == sequenceA[j-1]:\n",
        "        diagonal_left_cell_score = diagonal_left_cell + Sequences.MATCH.value\n",
        "    else:\n",
        "        diagonal_left_cell_score = diagonal_left_cell + Sequences.MISS_MATCH.value\n",
        "\n",
        "    score = max([from_left_score,from_above_score,diagonal_left_cell_score])\n",
        "\n",
        "    # main_matrix[i][j] = score\n",
        "    line2[j] = score\n",
        "\n",
        "    if score == from_left_score:\n",
        "        arrow = Arrow.LEFT.value\n",
        "    elif score == from_above_score:\n",
        "        arrow = Arrow.UP.value\n",
        "    elif score == diagonal_left_cell_score:\n",
        "        arrow = Arrow.UP_LEFT.value\n",
        "    lineTrace[j] = arrow\n",
        "    # match_checker_matrix[i][j] = arrow\n",
        "\n",
        "  # print(\"hasil : \")\n",
        "  # print(line2)\n",
        "\n",
        "  parseDataText(line2, \"main_matriks\")\n",
        "  parseDataText(lineTrace, \"traceback_matriks\")\n",
        "\n",
        "  line1 = line2\n",
        "  line2 = line3\n",
        "  lineRead = mainData.readline()\n",
        "  treaceDataRead = tracebackData.readline()\n",
        "\n",
        "\n",
        "  i = i + 1\n",
        "\n",
        "  if lineRead == '' and len(line2) == 0:\n",
        "    break\n",
        "\n",
        "# for i in range(0, len(main_matrix)):\n",
        "\n",
        "# print(\"Scoring array:\")\n",
        "# display(pretty_table_from_array(main_matrix,row_labels,column_labels))\n",
        "# mainFunction()"
      ]
    },
    {
      "cell_type": "markdown",
      "source": [
        "### Step 3 : Traceback"
      ],
      "metadata": {
        "id": "iCgmUBY-b5DC"
      }
    },
    {
      "cell_type": "code",
      "source": [
        "!cat traceback_matriks_buffer.txt"
      ],
      "metadata": {
        "id": "5Oz-LDpi0WOj",
        "colab": {
          "base_uri": "https://localhost:8080/"
        },
        "outputId": "4163e464-dd10-4e31-fef8-2709d7c9d107"
      },
      "execution_count": 19,
      "outputs": [
        {
          "output_type": "stream",
          "name": "stdout",
          "text": [
            "-,←,←,←,←,←\n",
            "↑,↖,←,←,←,←\n",
            "↑,↑,↖,←,←,←\n",
            "↑,↑,↖,↖,←,←\n",
            "↑,↑,↑,↖,←,←\n",
            "↑,↑,↑,↑,↖,↖\n"
          ]
        }
      ]
    },
    {
      "cell_type": "code",
      "source": [
        "reverseFileLine(\"traceback_matriks_buffer\")\n",
        "traceback_alignment_cache(\"result.txt\", sequenceB, sequenceA)"
      ],
      "metadata": {
        "colab": {
          "base_uri": "https://localhost:8080/"
        },
        "id": "Zl1AvKNXVThc",
        "outputId": "d08d52f9-6c74-437f-ac65-05ac4697255a"
      },
      "execution_count": 20,
      "outputs": [
        {
          "output_type": "stream",
          "name": "stdout",
          "text": [
            "TREE-S\n",
            "  || |\n",
            "F-EEDS\n"
          ]
        },
        {
          "output_type": "execute_result",
          "data": {
            "text/plain": [
              "('TREE-S', 'F-EEDS')"
            ]
          },
          "metadata": {},
          "execution_count": 20
        }
      ]
    }
  ]
}