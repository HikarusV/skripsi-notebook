{
  "nbformat": 4,
  "nbformat_minor": 0,
  "metadata": {
    "colab": {
      "provenance": []
    },
    "kernelspec": {
      "name": "python3",
      "display_name": "Python 3"
    },
    "language_info": {
      "name": "python"
    }
  },
  "cells": [
    {
      "cell_type": "markdown",
      "source": [
        "##Step 1 : Import Module"
      ],
      "metadata": {
        "id": "GvLJm778d5uS"
      }
    },
    {
      "cell_type": "code",
      "source": [
        "import numpy as np\n",
        "from enum import Enum, auto\n",
        "\n",
        "from IPython.core.display import HTML,display\n",
        "\n",
        "import pandas as pd\n",
        "from datetime import datetime"
      ],
      "metadata": {
        "id": "x08QS_wzd8KW"
      },
      "execution_count": 1,
      "outputs": []
    },
    {
      "cell_type": "markdown",
      "source": [
        "##Step 2 : Deklarasi Variabel"
      ],
      "metadata": {
        "id": "l6S32nGyVMdy"
      }
    },
    {
      "cell_type": "code",
      "execution_count": 20,
      "metadata": {
        "id": "pwqIm963Tl4F"
      },
      "outputs": [],
      "source": [
        "# String Variable\n",
        "sequenceA       : str = 'FEEDS'#'TREES'\n",
        "sequenceB       : str = 'TREES'#'FEEDS'\n",
        "alignedA        : str\n",
        "alignedB        : str\n",
        "\n",
        "# Integer Variable\n",
        "lengthSequenceA : int\n",
        "lengthSequenceB : int\n",
        "\n",
        "limit = 999999\n",
        "\n",
        "# Matrix\n",
        "main_matrix           : list\n",
        "match_checker_matrix  : list"
      ]
    },
    {
      "cell_type": "code",
      "source": [
        "class Sequences(Enum) :\n",
        "  MATCH: int = 1\n",
        "  MISS_MATCH = -1\n",
        "  GAP_PENALTY = -1\n",
        "\n",
        "class Arrow(Enum) :\n",
        "  UP          : str = \"\\u2191\"\n",
        "  RIGHT       : str = \"\\u2192\"\n",
        "  down_arrow  : str = \"\\u2193\"\n",
        "  LEFT        : str = \"\\u2190\"\n",
        "  DOWN_RIGHT  : str = \"\\u2198\"\n",
        "  UP_LEFT     : str = \"\\u2196\""
      ],
      "metadata": {
        "id": "CHO5bkRCbw0n"
      },
      "execution_count": 21,
      "outputs": []
    },
    {
      "cell_type": "markdown",
      "source": [
        "##Step 3 : Method Function"
      ],
      "metadata": {
        "id": "bBzpYbHNTC8Z"
      }
    },
    {
      "cell_type": "code",
      "source": [
        "# Fungsi generate data table\n",
        "def pretty_table_from_array(data_array, row_labels,col_labels):\n",
        "    \"\"\"Show an HTML table from a 2d numpy array\"\"\"\n",
        "    df = pd.DataFrame(data_array,index=row_labels,columns=col_labels)\n",
        "    table_html = df.to_html()\n",
        "    return HTML(table_html)"
      ],
      "metadata": {
        "id": "iS-Pp6-CTAIh"
      },
      "execution_count": 7,
      "outputs": []
    },
    {
      "cell_type": "code",
      "source": [
        "def traceback_alignment(traceback_array, sequenceA, sequenceB):\n",
        "\n",
        "    n_rows = len(sequenceA) + 1 #need an extra row up top\n",
        "    n_columns = len(sequenceB) + 1 #need an extra row up top\n",
        "\n",
        "    row = len(sequenceA)\n",
        "    col = len(sequenceB)\n",
        "    arrow = traceback_array[row,col]\n",
        "    aligned_sequenceA = \"\"\n",
        "    aligned_sequenceB = \"\"\n",
        "    alignment_indicator = \"\"\n",
        "    while arrow is not \"-\":\n",
        "            # print(\"Currently on row:\",row)\n",
        "            # print(\"Currently on col:\",col)\n",
        "            arrow = traceback_array[row,col]\n",
        "            # print(\"Arrow:\",arrow)\n",
        "\n",
        "            if arrow == Arrow.UP.value:\n",
        "                # print(\"insert indel into top sequence\")\n",
        "                #We want to add the new indel onto the left\n",
        "                #side of the growing aligned sequence\n",
        "                aligned_sequenceB = \"-\"+aligned_sequenceB\n",
        "                aligned_sequenceA = sequenceA[row-1] + aligned_sequenceA\n",
        "                alignment_indicator = \" \"+alignment_indicator\n",
        "                row -=1\n",
        "\n",
        "            elif arrow == Arrow.UP_LEFT.value:\n",
        "                # print(\"match or mismatch\")\n",
        "                #Note that we look up the row-1 and col-1 indexes\n",
        "                #because there is an extra \"-\" character at the\n",
        "                #start of each sequence\n",
        "                sequenceA_character = sequenceA[row-1]\n",
        "                sequenceB_character = sequenceB[col-1]\n",
        "                aligned_sequenceA = sequenceA[row-1] + aligned_sequenceA\n",
        "                aligned_sequenceB = sequenceB[col-1] + aligned_sequenceB\n",
        "                if sequenceA_character == sequenceB_character:\n",
        "                    alignment_indicator = \"|\"+alignment_indicator\n",
        "                else:\n",
        "                    alignment_indicator = \" \"+alignment_indicator\n",
        "                row -=1\n",
        "                col -=1\n",
        "\n",
        "            elif arrow == Arrow.LEFT.value:\n",
        "                # print(\"Insert indel into left sequence\")\n",
        "                aligned_sequenceA = \"-\"+aligned_sequenceA\n",
        "                aligned_sequenceB = sequenceB[col-1] + aligned_sequenceB\n",
        "                alignment_indicator = \" \"+alignment_indicator\n",
        "                col -=1\n",
        "\n",
        "            elif arrow == \"-\":\n",
        "                break\n",
        "            else:\n",
        "                raise ValueError(f\"Traceback array entry at {row},{col}: {arrow} is not recognized as an up arrow ({Arrow.UP.value}),Arrow.LEFT.value ({Arrow.LEFT.value}), Arrow.UP_LEFT.value ({Arrow.UP_LEFT.value}), or a stop (-).\")\n",
        "            #print(traceback_array,-row,-col,traceback_array[-row,-col])\n",
        "    print(aligned_sequenceA)\n",
        "    print(alignment_indicator)\n",
        "    print(aligned_sequenceB)\n",
        "\n",
        "    # return aligned_sequenceA,aligned_sequenceB"
      ],
      "metadata": {
        "colab": {
          "base_uri": "https://localhost:8080/"
        },
        "id": "hY3VEhXrlDZr",
        "outputId": "6f3d6b43-9006-46ec-9517-d737ddd8b6ac"
      },
      "execution_count": 8,
      "outputs": [
        {
          "output_type": "stream",
          "name": "stderr",
          "text": [
            "<>:12: SyntaxWarning: \"is not\" with a literal. Did you mean \"!=\"?\n",
            "<>:12: SyntaxWarning: \"is not\" with a literal. Did you mean \"!=\"?\n",
            "<>:12: SyntaxWarning: \"is not\" with a literal. Did you mean \"!=\"?\n",
            "<>:12: SyntaxWarning: \"is not\" with a literal. Did you mean \"!=\"?\n",
            "<ipython-input-8-64f97e14f2b3>:12: SyntaxWarning: \"is not\" with a literal. Did you mean \"!=\"?\n",
            "  while arrow is not \"-\":\n",
            "<ipython-input-8-64f97e14f2b3>:12: SyntaxWarning: \"is not\" with a literal. Did you mean \"!=\"?\n",
            "  while arrow is not \"-\":\n"
          ]
        }
      ]
    },
    {
      "cell_type": "markdown",
      "source": [
        "##Step 4 : Matrix initiate"
      ],
      "metadata": {
        "id": "t0MTY9EaeFhx"
      }
    },
    {
      "cell_type": "code",
      "source": [
        "start = datetime.now()\n",
        "baris = len(sequenceA) + 1\n",
        "kolom = len(sequenceB) + 1\n",
        "\n",
        "main_matrix           = np.full([baris, kolom], 0)\n",
        "match_checker_matrix  = np.full([baris, kolom], '-')\n",
        "\n",
        "row_labels = [label for label in \"-\"+sequenceA]\n",
        "column_labels = [label for label in \"-\"+sequenceB]\n",
        "\n",
        "# print(\"Scoring array:\")\n",
        "# display(pretty_table_from_array(main_matrix,row_labels,column_labels))\n",
        "# print(\"\\n\\nTraceback array:\")\n",
        "# display(pretty_table_from_array(match_checker_matrix,row_labels,column_labels))\n",
        "print(\"time :: \" + str(datetime.now() - start))"
      ],
      "metadata": {
        "id": "fIg0ws2ueJVq",
        "colab": {
          "base_uri": "https://localhost:8080/"
        },
        "outputId": "46c65544-661a-4153-8d14-03cd141dd320"
      },
      "execution_count": 9,
      "outputs": [
        {
          "output_type": "stream",
          "name": "stdout",
          "text": [
            "time :: 0:00:00.000563\n"
          ]
        }
      ]
    },
    {
      "cell_type": "markdown",
      "source": [
        "##Step 5 : Needleman Wunsch Algorithm"
      ],
      "metadata": {
        "id": "c2pn2eB6fth-"
      }
    },
    {
      "cell_type": "markdown",
      "source": [
        "### Step 1 : Initialisation"
      ],
      "metadata": {
        "id": "-247v-jRf1_e"
      }
    },
    {
      "cell_type": "code",
      "source": [
        "# Matriks Score\n",
        "for i in range(0, len(main_matrix)):\n",
        "  if i == 0:\n",
        "    for j in range(0, len(main_matrix[i])):\n",
        "      main_matrix[i][j] = j * Sequences.GAP_PENALTY.value\n",
        "  else:\n",
        "    main_matrix[i][0] = i * Sequences.GAP_PENALTY.value\n",
        "\n",
        "# print(\"Scoring array:\")\n",
        "# display(pretty_table_from_array(main_matrix,row_labels,column_labels))"
      ],
      "metadata": {
        "id": "6nIIF-Xmfy8A"
      },
      "execution_count": 16,
      "outputs": []
    },
    {
      "cell_type": "code",
      "source": [
        "#Matriks Traceback\n",
        "for i in range(0, len(main_matrix)):\n",
        "  if i == 0:\n",
        "    for j in range(0, len(main_matrix[i])):\n",
        "      if j == 0:\n",
        "        match_checker_matrix[i][j] = \"-\"\n",
        "      else:\n",
        "        match_checker_matrix[i][j] = Arrow.LEFT.value\n",
        "  else:\n",
        "    match_checker_matrix[i][0] = Arrow.UP.value\n",
        "\n",
        "# print(\"Scoring array:\")\n",
        "# display(pretty_table_from_array(match_checker_matrix,row_labels,column_labels))"
      ],
      "metadata": {
        "id": "qDAgx5E5m6Hg"
      },
      "execution_count": 17,
      "outputs": []
    },
    {
      "cell_type": "markdown",
      "source": [
        "### Step 2 : Matrix Filling"
      ],
      "metadata": {
        "id": "UZrgfZeGgJuC"
      }
    },
    {
      "cell_type": "code",
      "source": [
        "start = datetime.now()\n",
        "for i in range(1,len(sequenceB)+1):\n",
        "    for j in range(1,len(sequenceA)+1):\n",
        "      cell_to_the_left = main_matrix[i][j-1]\n",
        "      from_left_score = cell_to_the_left + Sequences.GAP_PENALTY.value\n",
        "\n",
        "      above_cell = main_matrix[i-1][j]\n",
        "      from_above_score = above_cell + Sequences.GAP_PENALTY.value\n",
        "\n",
        "      diagonal_left_cell = main_matrix[i-1][j-1]\n",
        "\n",
        "      if sequenceB[i-1] == sequenceA[j-1]:\n",
        "          diagonal_left_cell_score = diagonal_left_cell + Sequences.MATCH.value\n",
        "      else:\n",
        "          diagonal_left_cell_score = diagonal_left_cell + Sequences.MISS_MATCH.value\n",
        "\n",
        "      score = max([from_left_score,from_above_score,diagonal_left_cell_score])\n",
        "\n",
        "      main_matrix[i][j] = score\n",
        "\n",
        "      if score == from_left_score:\n",
        "          arrow = Arrow.LEFT.value\n",
        "      elif score == from_above_score:\n",
        "          arrow = Arrow.UP.value\n",
        "      elif score == diagonal_left_cell_score:\n",
        "          arrow = Arrow.UP_LEFT.value\n",
        "      match_checker_matrix[i][j] = arrow\n",
        "\n",
        "print(\"Scoring array:\")\n",
        "display(pretty_table_from_array(main_matrix,row_labels,column_labels))\n",
        "print(\"\\n\\nTraceback array:\")\n",
        "display(pretty_table_from_array(match_checker_matrix,row_labels,column_labels))\n",
        "\n",
        "print(\"time :: \" + str(datetime.now() - start))\n",
        "\n",
        "# print(main_matrix)"
      ],
      "metadata": {
        "colab": {
          "base_uri": "https://localhost:8080/",
          "height": 550
        },
        "id": "mJQzxxNdfy9N",
        "outputId": "bedc220f-76f3-4f84-8e6b-29cd6a9a8cee"
      },
      "execution_count": 18,
      "outputs": [
        {
          "output_type": "stream",
          "name": "stdout",
          "text": [
            "Scoring array:\n"
          ]
        },
        {
          "output_type": "display_data",
          "data": {
            "text/plain": [
              "<IPython.core.display.HTML object>"
            ],
            "text/html": [
              "<table border=\"1\" class=\"dataframe\">\n",
              "  <thead>\n",
              "    <tr style=\"text-align: right;\">\n",
              "      <th></th>\n",
              "      <th>-</th>\n",
              "      <th>T</th>\n",
              "      <th>R</th>\n",
              "      <th>E</th>\n",
              "      <th>E</th>\n",
              "      <th>S</th>\n",
              "    </tr>\n",
              "  </thead>\n",
              "  <tbody>\n",
              "    <tr>\n",
              "      <th>-</th>\n",
              "      <td>0</td>\n",
              "      <td>-1</td>\n",
              "      <td>-2</td>\n",
              "      <td>-3</td>\n",
              "      <td>-4</td>\n",
              "      <td>-5</td>\n",
              "    </tr>\n",
              "    <tr>\n",
              "      <th>F</th>\n",
              "      <td>-1</td>\n",
              "      <td>-1</td>\n",
              "      <td>-2</td>\n",
              "      <td>-3</td>\n",
              "      <td>-4</td>\n",
              "      <td>-5</td>\n",
              "    </tr>\n",
              "    <tr>\n",
              "      <th>E</th>\n",
              "      <td>-2</td>\n",
              "      <td>-2</td>\n",
              "      <td>-2</td>\n",
              "      <td>-3</td>\n",
              "      <td>-4</td>\n",
              "      <td>-5</td>\n",
              "    </tr>\n",
              "    <tr>\n",
              "      <th>E</th>\n",
              "      <td>-3</td>\n",
              "      <td>-3</td>\n",
              "      <td>-1</td>\n",
              "      <td>-1</td>\n",
              "      <td>-2</td>\n",
              "      <td>-3</td>\n",
              "    </tr>\n",
              "    <tr>\n",
              "      <th>D</th>\n",
              "      <td>-4</td>\n",
              "      <td>-4</td>\n",
              "      <td>-2</td>\n",
              "      <td>0</td>\n",
              "      <td>-1</td>\n",
              "      <td>-2</td>\n",
              "    </tr>\n",
              "    <tr>\n",
              "      <th>S</th>\n",
              "      <td>-5</td>\n",
              "      <td>-5</td>\n",
              "      <td>-3</td>\n",
              "      <td>-1</td>\n",
              "      <td>-1</td>\n",
              "      <td>0</td>\n",
              "    </tr>\n",
              "  </tbody>\n",
              "</table>"
            ]
          },
          "metadata": {}
        },
        {
          "output_type": "stream",
          "name": "stdout",
          "text": [
            "\n",
            "\n",
            "Traceback array:\n"
          ]
        },
        {
          "output_type": "display_data",
          "data": {
            "text/plain": [
              "<IPython.core.display.HTML object>"
            ],
            "text/html": [
              "<table border=\"1\" class=\"dataframe\">\n",
              "  <thead>\n",
              "    <tr style=\"text-align: right;\">\n",
              "      <th></th>\n",
              "      <th>-</th>\n",
              "      <th>T</th>\n",
              "      <th>R</th>\n",
              "      <th>E</th>\n",
              "      <th>E</th>\n",
              "      <th>S</th>\n",
              "    </tr>\n",
              "  </thead>\n",
              "  <tbody>\n",
              "    <tr>\n",
              "      <th>-</th>\n",
              "      <td>-</td>\n",
              "      <td>←</td>\n",
              "      <td>←</td>\n",
              "      <td>←</td>\n",
              "      <td>←</td>\n",
              "      <td>←</td>\n",
              "    </tr>\n",
              "    <tr>\n",
              "      <th>F</th>\n",
              "      <td>↑</td>\n",
              "      <td>↖</td>\n",
              "      <td>←</td>\n",
              "      <td>←</td>\n",
              "      <td>←</td>\n",
              "      <td>←</td>\n",
              "    </tr>\n",
              "    <tr>\n",
              "      <th>E</th>\n",
              "      <td>↑</td>\n",
              "      <td>↑</td>\n",
              "      <td>↖</td>\n",
              "      <td>←</td>\n",
              "      <td>←</td>\n",
              "      <td>←</td>\n",
              "    </tr>\n",
              "    <tr>\n",
              "      <th>E</th>\n",
              "      <td>↑</td>\n",
              "      <td>↑</td>\n",
              "      <td>↖</td>\n",
              "      <td>↖</td>\n",
              "      <td>←</td>\n",
              "      <td>←</td>\n",
              "    </tr>\n",
              "    <tr>\n",
              "      <th>D</th>\n",
              "      <td>↑</td>\n",
              "      <td>↑</td>\n",
              "      <td>↑</td>\n",
              "      <td>↖</td>\n",
              "      <td>←</td>\n",
              "      <td>←</td>\n",
              "    </tr>\n",
              "    <tr>\n",
              "      <th>S</th>\n",
              "      <td>↑</td>\n",
              "      <td>↑</td>\n",
              "      <td>↑</td>\n",
              "      <td>↑</td>\n",
              "      <td>↖</td>\n",
              "      <td>↖</td>\n",
              "    </tr>\n",
              "  </tbody>\n",
              "</table>"
            ]
          },
          "metadata": {}
        },
        {
          "output_type": "stream",
          "name": "stdout",
          "text": [
            "time :: 0:00:00.022970\n"
          ]
        }
      ]
    },
    {
      "cell_type": "markdown",
      "source": [
        "### Step 3 : Traceback"
      ],
      "metadata": {
        "id": "UZLCnQ6Bg8Ks"
      }
    },
    {
      "cell_type": "code",
      "source": [
        "# Algoritma Needleman Wunsch\n",
        "traceback_alignment(match_checker_matrix, sequenceB, sequenceA)"
      ],
      "metadata": {
        "id": "aSKcXbT6g_DW",
        "colab": {
          "base_uri": "https://localhost:8080/"
        },
        "outputId": "7e87976b-943a-451f-bbaf-15c25875f183"
      },
      "execution_count": 19,
      "outputs": [
        {
          "output_type": "stream",
          "name": "stdout",
          "text": [
            "TREE-S\n",
            "  || |\n",
            "F-EEDS\n"
          ]
        }
      ]
    }
  ]
}